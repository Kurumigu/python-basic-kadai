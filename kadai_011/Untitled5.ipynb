{
  "nbformat": 4,
  "nbformat_minor": 0,
  "metadata": {
    "colab": {
      "provenance": []
    },
    "kernelspec": {
      "name": "python3",
      "display_name": "Python 3"
    },
    "language_info": {
      "name": "python"
    }
  },
  "cells": [
    {
      "cell_type": "code",
      "execution_count": 23,
      "metadata": {
        "colab": {
          "base_uri": "https://localhost:8080/"
        },
        "id": "zTfT6C27ah-0",
        "outputId": "f19de15e-99c0-4b72-aaca-23ec507475f0"
      },
      "outputs": [
        {
          "output_type": "stream",
          "name": "stdout",
          "text": [
            "水\n",
            "金\n",
            "地\n",
            "火\n",
            "木\n",
            "土\n",
            "天\n",
            "海\n",
            "冥\n",
            "水\n",
            "金\n",
            "地\n",
            "火\n",
            "木\n",
            "土\n",
            "天\n",
            "海\n",
            "冥\n"
          ]
        }
      ],
      "source": [
        "arrays = [\"水\",\"金\",\"地\",\"火\",\"木\",\"土\",\"天\",\"海\",\"冥\"]\n",
        "for index, value in enumerate(arrays):\n",
        "    print(f\"{value}\")\n",
        "\n",
        "i = 0\n",
        "while 1:\n",
        "     if  i < 9:\n",
        "      print(arrays[i])\n",
        "      i = i + 1\n",
        "      continue\n",
        "     else:\n",
        "         break"
      ]
    },
    {
      "cell_type": "code",
      "source": [],
      "metadata": {
        "id": "RCjjt3-oc6ug"
      },
      "execution_count": null,
      "outputs": []
    }
  ]
}