{
  "nbformat": 4,
  "nbformat_minor": 0,
  "metadata": {
    "colab": {
      "provenance": []
    },
    "kernelspec": {
      "name": "python3",
      "display_name": "Python 3"
    },
    "language_info": {
      "name": "python"
    }
  },
  "cells": [
    {
      "cell_type": "code",
      "execution_count": 16,
      "metadata": {
        "colab": {
          "base_uri": "https://localhost:8080/"
        },
        "id": "O7TOeOk_nONH",
        "outputId": "bd6bc98e-de06-4b8c-f3b1-b5cd0f11adb4"
      },
      "outputs": [
        {
          "output_type": "stream",
          "name": "stdout",
          "text": [
            "Aliceは大人です。\n",
            "Bobは大人ではないです。\n",
            "Charlieは大人です。\n"
          ]
        }
      ],
      "source": [
        "import random\n",
        "\n",
        "class Human:\n",
        "    def __init__(self, name, age):\n",
        "        self.name = name\n",
        "        self.age = age\n",
        "\n",
        "    def check_adult(self):\n",
        "        if self.age >= 20:\n",
        "            print(f\"{self.name}は大人です。\")\n",
        "\n",
        "        else:\n",
        "            print(f\"{self.name}は大人ではないです。\")\n",
        "\n",
        "human1 = Human(\"Alice\", 20)\n",
        "human2 = Human(\"Bob\", 15)\n",
        "human3 = Human(\"Charlie\", 30)\n",
        "\n",
        "human_list = [human1, human2, human3]\n",
        "\n",
        "for human in human_list:\n",
        "    human.check_adult()"
      ]
    }
  ]
}