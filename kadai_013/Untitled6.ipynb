{
  "nbformat": 4,
  "nbformat_minor": 0,
  "metadata": {
    "colab": {
      "provenance": []
    },
    "kernelspec": {
      "name": "python3",
      "display_name": "Python 3"
    },
    "language_info": {
      "name": "python"
    }
  },
  "cells": [
    {
      "cell_type": "code",
      "execution_count": 6,
      "metadata": {
        "colab": {
          "base_uri": "https://localhost:8080/"
        },
        "id": "LJvEH3lXVmsM",
        "outputId": "1e869e85-d049-4f55-e37c-d18adf4055b4"
      },
      "outputs": [
        {
          "output_type": "stream",
          "name": "stdout",
          "text": [
            "110.0円\n"
          ]
        }
      ],
      "source": [
        "def product(price, consumption_tax = 0.10) :\n",
        "    total = price * consumption_tax + price\n",
        "    return total\n",
        "\n",
        "print(f\"{product(100)}円\")"
      ]
    }
  ]
}