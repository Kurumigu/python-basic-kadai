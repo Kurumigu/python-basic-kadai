{
  "nbformat": 4,
  "nbformat_minor": 0,
  "metadata": {
    "colab": {
      "provenance": []
    },
    "kernelspec": {
      "name": "python3",
      "display_name": "Python 3"
    },
    "language_info": {
      "name": "python"
    }
  },
  "cells": [
    {
      "cell_type": "code",
      "execution_count": 10,
      "metadata": {
        "colab": {
          "base_uri": "https://localhost:8080/"
        },
        "id": "LJvEH3lXVmsM",
        "outputId": "82eee028-e971-4b03-e1ff-d1a80f1f9d7b"
      },
      "outputs": [
        {
          "output_type": "stream",
          "name": "stdout",
          "text": [
            "121.0円\n"
          ]
        }
      ],
      "source": [
        "def product(price, consumption_tax) :\n",
        "    tax_amount = price * consumption_tax / 100\n",
        "    total = price  + tax_amount\n",
        "    return total\n",
        "\n",
        "print(f\"{product(110, 10)}円\")"
      ]
    }
  ]
}